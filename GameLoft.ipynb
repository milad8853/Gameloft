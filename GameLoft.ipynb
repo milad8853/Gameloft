{
 "cells": [
  {
   "cell_type": "markdown",
   "metadata": {},
   "source": [
    "<br>\n",
    "<img src=\"https://i.ibb.co/vj5ntsr/logo.png\" width=\"120\" height=\"40\" align=\"left\"><br>\n",
    "<br>\n",
    "<br>\n",
    "<br>\n",
    "\n",
    "# <font color=black><center>Take-home Assignment</center>\n",
    "**Data Source:** Sent by email on 20 April 2021 from Kristóf Szabó - Gameloft Hungary - I started on 26th<br>\n",
    "    \n",
    "**Churn analysis:**<br>\n",
    "1- Which missions are we losing most players at? [Jump to Answer](#Q1)<br>\n",
    "2- Do we see different behavior depending on player level? (you can look at groupings of 5 or 10 levels) [Jump to Answer](#Q2)<br>\n",
    "<br>\n",
    "**Revenue analysis:**<br>\n",
    "3- How much revenue did we generate with the event? [Jump to Answer](#Q3)<br>\n",
    "4- Which levels generated more money [Jump to Answer](#Q4)<br>\n",
    "<br>\n",
    "**Recommendations:**<br>\n",
    "5- We would like the candidate to propose some recommendations to improve future events in terms of participation and revenue, based on this data set. [Jump to Answer](#Q5)<br>\n"
   ]
  },
  {
   "cell_type": "code",
   "execution_count": 97,
   "metadata": {},
   "outputs": [],
   "source": [
    "# Reading all libraries\n",
    "\n",
    "import pandas as pd\t\t\t\t\t\t\t\t\t\t\t\t\t# data manipulation\n",
    "import matplotlib.pyplot as plt\t\t\t\t\t\t\t\t\t\t\t\t# graphs\n",
    "import seaborn as sns\t\t\t\t\t\t\t\t\t\t\t\t\t# graphs\n",
    "import numpy as np\t\t\t\t\t\t\t\t\t\t\t\t\t# graphs\n",
    "from scipy.stats import norm\t\t\t\t\t\t\t\t\t\t\t\t# statistics\n",
    "from sklearn.preprocessing import StandardScaler\t\t\t\t\t\t\t\t\t# statistics\n",
    "from scipy import stats\t\t\t\t\t\t\t\t\t\t\t\t\t# statistics\n",
    "from math import *\t\t\t\t\t\t\t\t\t\t\t\t\t# advance calculation\t\n",
    "from matplotlib import cm\t\t\t\t\t\t\t\t\t\t\t\t# graphs\n",
    "from matplotlib.pyplot import figure\t\t\t\t\t\t\t\t\t\t\t# graphs\n",
    "import sys\t\t\t\t\t\t\t\t\t\t\t\t\t\t# system functions\n",
    "import warnings\t\t\t\t\t\t\t\t\t\t\t\t\t\t# indicating warnings\n",
    "warnings.filterwarnings('ignore')\t\t\t\t\t\t\t\t\t\t\t# ignore by default\n",
    "from matplotlib.ticker import LinearLocator\t\t\t\t\t\t\t\t\t\t# graphs\n",
    "pd.set_option('display.max_columns', None)\t\t\t\t\t\t\t\t\t\t# show all columns\n",
    "pd.set_option('display.max_rows', None)\t\t\t\t\t\t\t\t\t\t\t# show all rows\n",
    "np.set_printoptions(threshold=sys.maxsize)\t\t\t\t\t\t\t\t\t\t# show arrays full\n",
    "pd.set_option(\"display.max_colwidth\", -1)\t\t\t\t\t\t\t\t\t\t# show a complete text in a cell\n",
    "pd.set_option('display.float_format', lambda x: '%.2f' % x)\t\t\t\t\t\t\t\t# precision decimals pd\n",
    "np.set_printoptions(precision=3)\t\t\t\t\t\t\t\t\t\t\t# precision decimals np\n",
    "from xlsxwriter.workbook import Workbook\t\t\t\t\t\t\t\t\t\t# CSV writing\n",
    "import csv\t\t\t\t\t\t\t\t\t\t\t\t\t\t# CSV writing\t\n",
    "import xgboost as xgb\t\t\t\t\t\t\t\t\t\t\t\t\t# prediction\n",
    "import pickle\t\t\t\t\t\t\t\t\t\t\t\t\t\t# prediction\t\n",
    "import sklearn\t\t\t\t\t\t\t\t\t\t\t\t\t\t# mutual information\n",
    "import statsmodels.api as sm\t\t\t\t\t\t\t\t\t\t\t\t# coefficient\n",
    "from sklearn.ensemble import RandomForestClassifier\t\t\t\t\t\t\t\t\t# random forest\n",
    "from sklearn import linear_model\t\t\t\t\t\t\t\t\t\t\t# linear regression\n",
    "import pymysql\t\t\t\t\t\t\t\t\t\t\t\t\t\t# MySql connection\n",
    "import psycopg2\t\t\t\t\t\t\t\t\t\t\t\t\t\t# PostgreSQL database adapter\n",
    "import datetime\t\t\t\t\t\t\t\t\t\t\t\t\t\t# time conversions\n",
    "import random\t\t\t\t\t\t\t\t\t\t\t\t\t\t# randomchoice\n",
    "import math as math\t\t\t\t\t\t\t\t\t\t\t\t\t# maths\n",
    "import statistics\t\t\t\t\t\t\t\t\t\t\t\t\t# statistics\n",
    "import glob\t\t\t\t\t\t\t\t\t\t\t\t\t\t# paths and files management\n",
    "import matplotlib.image as mpimg\t\t\t\t\t\t\t\t\t\t\t# matplot image\n",
    "from functools import reduce\t\t\t\t\t\t\t\t\t\t\t\t# reduce\n",
    "import folium\t\t\t\t\t\t\t\t\t\t\t\t\t\t# interactive map\n",
    "from folium.plugins import FastMarkerCluster\t\t\t\t\t\t\t\t\t\t# interactive map\n",
    "import cufflinks as cf\t\t\t\t\t\t\t\t\t\t\t\t\t# Cufflink\n",
    "import pandasql as ps\t\t\t\t\t\t\t\t\t\t\t\t\t# connect to SQL\n",
    "from google.cloud import bigquery\t\t\t\t\t\t\t\t\t\t\t# upload to BigQuery\n",
    "import google.datalab.bigquery as bq\t\t\t\t\t\t\t\t\t\t\t# Pandas to BigQuery"
   ]
  },
  {
   "cell_type": "code",
   "execution_count": 186,
   "metadata": {},
   "outputs": [],
   "source": [
    "# Reading the dataset\n",
    "df = pd.read_csv('Game DA case study test dataset.csv')"
   ]
  },
  {
   "cell_type": "code",
   "execution_count": 94,
   "metadata": {},
   "outputs": [
    {
     "data": {
      "text/html": [
       "<div>\n",
       "<style scoped>\n",
       "    .dataframe tbody tr th:only-of-type {\n",
       "        vertical-align: middle;\n",
       "    }\n",
       "\n",
       "    .dataframe tbody tr th {\n",
       "        vertical-align: top;\n",
       "    }\n",
       "\n",
       "    .dataframe thead th {\n",
       "        text-align: right;\n",
       "    }\n",
       "</style>\n",
       "<table border=\"1\" class=\"dataframe\">\n",
       "  <thead>\n",
       "    <tr style=\"text-align: right;\">\n",
       "      <th></th>\n",
       "      <th>NullTotal</th>\n",
       "      <th>Null%</th>\n",
       "      <th>DupTotal</th>\n",
       "      <th>Dup%</th>\n",
       "    </tr>\n",
       "  </thead>\n",
       "  <tbody>\n",
       "    <tr>\n",
       "      <th>premium_currency_cost_of_skip</th>\n",
       "      <td>0</td>\n",
       "      <td>0.00</td>\n",
       "      <td>2032.00</td>\n",
       "      <td>99.61</td>\n",
       "    </tr>\n",
       "    <tr>\n",
       "      <th>users_skipped_mission</th>\n",
       "      <td>0</td>\n",
       "      <td>0.00</td>\n",
       "      <td>1974.00</td>\n",
       "      <td>96.77</td>\n",
       "    </tr>\n",
       "    <tr>\n",
       "      <th>users_starting_mission</th>\n",
       "      <td>0</td>\n",
       "      <td>0.00</td>\n",
       "      <td>1466.00</td>\n",
       "      <td>71.86</td>\n",
       "    </tr>\n",
       "    <tr>\n",
       "      <th>mission_chapter</th>\n",
       "      <td>0</td>\n",
       "      <td>0.00</td>\n",
       "      <td>1989.00</td>\n",
       "      <td>97.50</td>\n",
       "    </tr>\n",
       "    <tr>\n",
       "      <th>player_level</th>\n",
       "      <td>0</td>\n",
       "      <td>0.00</td>\n",
       "      <td>2000.00</td>\n",
       "      <td>98.04</td>\n",
       "    </tr>\n",
       "  </tbody>\n",
       "</table>\n",
       "</div>"
      ],
      "text/plain": [
       "                               NullTotal  Null%  DupTotal  Dup%\n",
       "premium_currency_cost_of_skip  0         0.00   2032.00   99.61\n",
       "users_skipped_mission          0         0.00   1974.00   96.77\n",
       "users_starting_mission         0         0.00   1466.00   71.86\n",
       "mission_chapter                0         0.00   1989.00   97.50\n",
       "player_level                   0         0.00   2000.00   98.04"
      ]
     },
     "metadata": {},
     "output_type": "display_data"
    }
   ],
   "source": [
    "# Show null values and duplicates in all columns. It uses isnull function for finding nulls and duplicated function for dups.\n",
    "def nulldup(df):\n",
    "    total = df.isnull().sum().sort_values(ascending=False)\n",
    "    percent = round((df.isnull().sum()/df.isnull().count()).sort_values(ascending=False)*100, 3)\n",
    "    missing_data = pd.concat([total, percent], axis=1, keys=['NullTotal', 'Null%'])\n",
    "    for dup in missing_data.index:\n",
    "        missing_data.at[dup,'DupTotal'] = df.duplicated(subset=[dup]).sum()\n",
    "        missing_data.at[dup,'Dup%'] = round((df.duplicated(subset=[dup]).sum())/df.shape[0]*100,3)\n",
    "    display(missing_data)\n",
    "nulldup(df)"
   ]
  },
  {
   "cell_type": "code",
   "execution_count": 95,
   "metadata": {
    "scrolled": true
   },
   "outputs": [
    {
     "name": "stdout",
     "output_type": "stream",
     "text": [
      "player_level :\n"
     ]
    },
    {
     "data": {
      "text/plain": [
       "41    51\n",
       "40    51\n",
       "19    51\n",
       "      ..\n",
       "25    51\n",
       "24    51\n",
       "2     51\n",
       "Name: player_level, Length: 40, dtype: int64"
      ]
     },
     "metadata": {},
     "output_type": "display_data"
    },
    {
     "name": "stdout",
     "output_type": "stream",
     "text": [
      "___________________________________ \n",
      "\n",
      "mission_chapter :\n"
     ]
    },
    {
     "data": {
      "text/plain": [
       "04_13    40\n",
       "01_03    40\n",
       "03_02    40\n",
       "         ..\n",
       "02_07    40\n",
       "01_05    40\n",
       "05_08    40\n",
       "Name: mission_chapter, Length: 51, dtype: int64"
      ]
     },
     "metadata": {},
     "output_type": "display_data"
    },
    {
     "name": "stdout",
     "output_type": "stream",
     "text": [
      "___________________________________ \n",
      "\n",
      "users_starting_mission :\n"
     ]
    },
    {
     "data": {
      "text/plain": [
       "1472     28\n",
       "1656     24\n",
       "1840     22\n",
       "         ..\n",
       "5635     1 \n",
       "19251    1 \n",
       "3979     1 \n",
       "Name: users_starting_mission, Length: 574, dtype: int64"
      ]
     },
     "metadata": {},
     "output_type": "display_data"
    },
    {
     "name": "stdout",
     "output_type": "stream",
     "text": [
      "___________________________________ \n",
      "\n",
      "users_skipped_mission :\n"
     ]
    },
    {
     "data": {
      "text/plain": [
       "0       1333\n",
       "23      251 \n",
       "46      107 \n",
       "       ...  \n",
       "644     1   \n",
       "621     1   \n",
       "2714    1   \n",
       "Name: users_skipped_mission, Length: 66, dtype: int64"
      ]
     },
     "metadata": {},
     "output_type": "display_data"
    },
    {
     "name": "stdout",
     "output_type": "stream",
     "text": [
      "___________________________________ \n",
      "\n",
      "premium_currency_cost_of_skip :\n"
     ]
    },
    {
     "data": {
      "text/plain": [
       "135    640\n",
       "90     560\n",
       "15     400\n",
       "      ... \n",
       "300    40 \n",
       "150    40 \n",
       "75     40 \n",
       "Name: premium_currency_cost_of_skip, Length: 8, dtype: int64"
      ]
     },
     "metadata": {},
     "output_type": "display_data"
    },
    {
     "name": "stdout",
     "output_type": "stream",
     "text": [
      "___________________________________ \n",
      "\n"
     ]
    }
   ],
   "source": [
    "# Count Values to see what we have in each column.It's a simple count_values along with a 'for' iteration.\n",
    "def count(df):\n",
    "    pd.set_option('display.max_rows', 6)\n",
    "    for column in df.columns:\n",
    "        print(column,':')\n",
    "        display(df[column].value_counts(dropna=False))\n",
    "        print('___________________________________','\\n')\n",
    "count(df)"
   ]
  },
  {
   "cell_type": "code",
   "execution_count": 96,
   "metadata": {
    "scrolled": true
   },
   "outputs": [
    {
     "data": {
      "image/png": "[encoded data removed]",
      "text/plain": [
       "<Figure size 1152x360 with 1 Axes>"
      ]
     },
     "metadata": {
      "needs_background": "light"
     },
     "output_type": "display_data"
    },
    {
     "data": {
      "image/png": "[encoded data removed]",
      "text/plain": [
       "<Figure size 1152x360 with 1 Axes>"
      ]
     },
     "metadata": {
      "needs_background": "light"
     },
     "output_type": "display_data"
    },
    {
     "data": {
      "image/png": "[encoded data removed]",
      "text/plain": [
       "<Figure size 1152x360 with 1 Axes>"
      ]
     },
     "metadata": {
      "needs_background": "light"
     },
     "output_type": "display_data"
    }
   ],
   "source": [
    "# Finding outliers using boxplot.\n",
    "def my_boxplots(df):\n",
    "    \n",
    "    # We only care about continous features greater than 10 unique elements and not being a date.\n",
    "    continuous_feature=[feature for feature in df.columns if (df[feature].dtypes != 'O') & (len(df[feature].unique())>10)\\\n",
    "                        & ('date' not in feature)]\n",
    "    for feature in continuous_feature:\n",
    "        df[feature].plot(kind='box', vert=False, figsize=(16,5));\n",
    "        plt.title(feature)\n",
    "        plt.show()\n",
    "\n",
    "my_boxplots(df)"
   ]
  },
  {
   "cell_type": "markdown",
   "metadata": {},
   "source": [
    "<a id='Q1'></a>\n",
    "## <font color=blue><center>1- Which missions are we losing most players at?</center> ##"
   ]
  },
  {
   "cell_type": "code",
   "execution_count": 191,
   "metadata": {
    "scrolled": true
   },
   "outputs": [
    {
     "name": "stdout",
     "output_type": "stream",
     "text": [
      "\n",
      " \u001b[1m \u001b[92m                      ***** players_lost by mission_name (top 10) ***** \u001b[0m\n"
     ]
    },
    {
     "data": {
      "image/png": "[encoded data removed]",
      "text/plain": [
       "<Figure size 864x288 with 1 Axes>"
      ]
     },
     "metadata": {
      "needs_background": "light"
     },
     "output_type": "display_data"
    },
    {
     "name": "stdout",
     "output_type": "stream",
     "text": [
      "\n",
      " \u001b[1m \u001b[92m                      ***** percentage_lost by mission_name (top 10) ***** \u001b[0m\n"
     ]
    },
    {
     "data": {
      "image/png": "[encoded data removed]",
      "text/plain": [
       "<Figure size 864x288 with 1 Axes>"
      ]
     },
     "metadata": {
      "needs_background": "light"
     },
     "output_type": "display_data"
    }
   ],
   "source": [
    "# Generate a table to calculate players_lost and the percentage of that \n",
    "\n",
    "dfresult1 = pd.DataFrame(data={'mission_name':[''],'players':['']}, columns=['mission_name','players'])\n",
    "\n",
    "index = 0\n",
    "for mission_name in df['mission_chapter'].unique():\n",
    "    dftarget = df.loc[df['mission_chapter'] == mission_name]\n",
    "    dfresult1.at[index,'mission_name'] = mission_name\n",
    "    dfresult1.at[index,'players'] = dftarget['users_starting_mission'].sum()\n",
    "    index = index + 1\n",
    "    \n",
    "dfresult1['players_lost'] = np.nan\n",
    "dfresult1['percentage_lost'] = np.nan\n",
    "\n",
    "for i in dfresult1.index:\n",
    "    if i < 50:\n",
    "        dfresult1.at[i,'players_lost'] = dfresult1['players'][i] - dfresult1['players'][i+1]\n",
    "        dfresult1.at[i,'percentage_lost'] = round((dfresult1['players'][i] - dfresult1['players'][i+1])/\\\n",
    "                                             dfresult1['players'][i]*100,2)\n",
    "    \n",
    "# This code define 'color' locally for the sake of 'print' function\n",
    "class color:\n",
    "   GREEN = '\\033[92m'\n",
    "   BOLD = '\\033[1m'\n",
    "   END = '\\033[0m'\n",
    "\n",
    "# Generate some spaces for 'print' function\n",
    "my_space = ' ' * 20\n",
    "\n",
    "# Two for-loops. The first one for sum of NetProfit, the latter for Average\n",
    "col = ['players_lost', 'percentage_lost']\n",
    "for col in (col):\n",
    "    dfresult1.sort_values(col, ascending = False)[:10].plot(kind='bar',x='mission_name',y=col, figsize=(12,4),color='darkcyan');\n",
    "    plt.title(print('\\n',color.BOLD,color.GREEN,my_space,'*****',col,\"by mission_name (top 10)\",'*****',color.END), fontsize=12)\n",
    "    plt.xlabel('') \n",
    "    plt.xticks(rotation=0)\n",
    "    plt.show();"
   ]
  },
  {
   "cell_type": "markdown",
   "metadata": {},
   "source": [
    "<a id='Q2'></a>\n",
    "## <font color=blue><center>2- Do we see different behavior depending on player level?</center> ##"
   ]
  },
  {
   "cell_type": "code",
   "execution_count": 205,
   "metadata": {
    "scrolled": true
   },
   "outputs": [
    {
     "data": {
      "text/html": [
       "<div>\n",
       "<style scoped>\n",
       "    .dataframe tbody tr th:only-of-type {\n",
       "        vertical-align: middle;\n",
       "    }\n",
       "\n",
       "    .dataframe tbody tr th {\n",
       "        vertical-align: top;\n",
       "    }\n",
       "\n",
       "    .dataframe thead th {\n",
       "        text-align: right;\n",
       "    }\n",
       "</style>\n",
       "<table border=\"1\" class=\"dataframe\">\n",
       "  <thead>\n",
       "    <tr style=\"text-align: right;\">\n",
       "      <th></th>\n",
       "      <th>lvl_grouping</th>\n",
       "      <th>avg_percentage_lost</th>\n",
       "      <th>avg_players_lost</th>\n",
       "    </tr>\n",
       "  </thead>\n",
       "  <tbody>\n",
       "    <tr>\n",
       "      <th>0</th>\n",
       "      <td>beginner</td>\n",
       "      <td>12.53</td>\n",
       "      <td>27762.84</td>\n",
       "    </tr>\n",
       "    <tr>\n",
       "      <th>1</th>\n",
       "      <td>intermediate</td>\n",
       "      <td>6.67</td>\n",
       "      <td>3804.20</td>\n",
       "    </tr>\n",
       "    <tr>\n",
       "      <th>2</th>\n",
       "      <td>advanced</td>\n",
       "      <td>4.23</td>\n",
       "      <td>1079.16</td>\n",
       "    </tr>\n",
       "    <tr>\n",
       "      <th>3</th>\n",
       "      <td>professional</td>\n",
       "      <td>2.44</td>\n",
       "      <td>391.00</td>\n",
       "    </tr>\n",
       "  </tbody>\n",
       "</table>\n",
       "</div>"
      ],
      "text/plain": [
       "   lvl_grouping  avg_percentage_lost  avg_players_lost\n",
       "0  beginner     12.53                27762.84         \n",
       "1  intermediate 6.67                 3804.20          \n",
       "2  advanced     4.23                 1079.16          \n",
       "3  professional 2.44                 391.00           "
      ]
     },
     "metadata": {},
     "output_type": "display_data"
    },
    {
     "name": "stdout",
     "output_type": "stream",
     "text": [
      "\n",
      " \u001b[1m \u001b[92m            ***** players_lost by mission_name and lvl_grouping (top 10) ***** \u001b[0m\n"
     ]
    },
    {
     "data": {
      "image/png": "[encoded data removed]",
      "text/plain": [
       "<Figure size 864x216 with 1 Axes>"
      ]
     },
     "metadata": {
      "needs_background": "light"
     },
     "output_type": "display_data"
    },
    {
     "name": "stdout",
     "output_type": "stream",
     "text": [
      "\n",
      " \u001b[1m \u001b[92m            ***** percentage_lost by mission_name and lvl_grouping (top 10) ***** \u001b[0m\n"
     ]
    },
    {
     "data": {
      "image/png": "[encoded data removed]",
      "text/plain": [
       "<Figure size 864x216 with 1 Axes>"
      ]
     },
     "metadata": {
      "needs_background": "light"
     },
     "output_type": "display_data"
    }
   ],
   "source": [
    "# The structure of this cell is the same as previous one but it generates data based on different levels\n",
    "# This time, I will distinguish players_lost by 4 levels with each having bin size of 10 levels \n",
    "df2 = df.copy()\n",
    "lvl2_11 = df2.loc[df2['player_level'].between(2,11)].index\n",
    "lvl12_21 = df2.loc[df2['player_level'].between(12,21)].index\n",
    "lvl22_31 = df2.loc[df2['player_level'].between(22,31)].index\n",
    "lvl32_41 = df2.loc[df2['player_level'].between(32,41)].index\n",
    "df2['lvl_grouping'] = np.nan\n",
    "df2.at[lvl2_11,'lvl_grouping'] = 'beginner'\n",
    "df2.at[lvl12_21,'lvl_grouping'] = 'intermediate'\n",
    "df2.at[lvl22_31,'lvl_grouping'] = 'advanced'\n",
    "df2.at[lvl32_41,'lvl_grouping'] = 'professional'\n",
    "\n",
    "\n",
    "# Generate a table to calculate players_lost and the percentage of that \n",
    "dfresult2 = pd.DataFrame(data={'lvl_grouping':[''],'mission_name':[''],'players':['']},\n",
    "                         columns=['lvl_grouping','mission_name','players'])\n",
    "\n",
    "index = 0\n",
    "for lvl_grouping in df2['lvl_grouping'].unique():\n",
    "    dfinside = df2.loc[df2['lvl_grouping'] == lvl_grouping]\n",
    "    for mission_name in dfinside['mission_chapter'].unique():\n",
    "        dftarget = dfinside.loc[dfinside['mission_chapter'] == mission_name]\n",
    "        dfresult2.at[index,'lvl_grouping'] = lvl_grouping\n",
    "        dfresult2.at[index,'mission_name'] = mission_name\n",
    "        dfresult2.at[index,'players'] = dftarget['users_starting_mission'].sum()\n",
    "        index = index + 1\n",
    "    \n",
    "dfresult2['players_lost'] = np.nan\n",
    "dfresult2['percentage_lost'] = np.nan\n",
    "\n",
    "for i in dfresult2.index:\n",
    "    if i < 203:\n",
    "        dfresult2.at[i,'players_lost'] = dfresult2['players'][i] - dfresult2['players'][i+1]\n",
    "        dfresult2.at[i,'percentage_lost'] = round((dfresult2['players'][i] - dfresult2['players'][i+1])/\\\n",
    "                                             dfresult2['players'][i]*100,2)\n",
    "    \n",
    "dfresult2.at[dfresult2.loc[dfresult2['mission_name'] == '05_17'].index,'percentage_lost'] = np.nan\n",
    "dfresult2.at[dfresult2.loc[dfresult2['mission_name'] == '05_17'].index,'players_lost'] = np.nan\n",
    "dfresult2\n",
    "\n",
    "display(ps.sqldf(\"\"\"\n",
    "\n",
    "SELECT lvl_grouping, AVG(percentage_lost) avg_percentage_lost, AVG(players_lost) avg_players_lost\n",
    "FROM dfresult2\n",
    "GROUP BY 1\n",
    "ORDER BY 2 DESC\n",
    "\n",
    "\"\"\"))\n",
    "\n",
    "# This code define 'color' locally for the sake of 'print' function\n",
    "class color:\n",
    "   GREEN = '\\033[92m'\n",
    "   BOLD = '\\033[1m'\n",
    "   END = '\\033[0m'\n",
    "\n",
    "# Generate some spaces for 'print' function\n",
    "my_space = ' ' * 10\n",
    "dfresult2['mission_name'] = dfresult2['lvl_grouping'] + '_' + dfresult2['mission_name']\n",
    "# Two for-loops. The first one for sum of NetProfit, the latter for Average\n",
    "col = ['players_lost', 'percentage_lost']\n",
    "for col in (col):\n",
    "    dfresult2.sort_values(col, ascending = False)[:10].plot(kind='bar', x='mission_name',y=col,figsize=(12,3),color='darkcyan');\n",
    "    plt.title(print('\\n',color.BOLD,color.GREEN,my_space,'*****',col,\"by mission_name and lvl_grouping (top 10)\"\\\n",
    "                    ,'*****',color.END), fontsize=12)\n",
    "    plt.xlabel('') \n",
    "    plt.xticks(rotation=90)\n",
    "    plt.show();\n",
    "dfresult2.to_csv('dfresult2.csv', index=None)"
   ]
  },
  {
   "cell_type": "markdown",
   "metadata": {},
   "source": [
    "<a id='Q3'></a>\n",
    "## <font color=blue><center>3- How much revenue did we generate with the event?</center> ##"
   ]
  },
  {
   "cell_type": "code",
   "execution_count": 208,
   "metadata": {},
   "outputs": [
    {
     "data": {
      "text/plain": [
       "224111.38"
      ]
     },
     "execution_count": 208,
     "metadata": {},
     "output_type": "execute_result"
    }
   ],
   "source": [
    "# First, calculating total_premium_collected by multiplying skipped_missions by currency\n",
    "df['total_premium_collected'] = df['users_skipped_mission'] * df['premium_currency_cost_of_skip']\n",
    "\n",
    "# Second, convert premium currency to dollars\n",
    "round(df['total_premium_collected'].sum()*4.99/100,2)"
   ]
  },
  {
   "cell_type": "markdown",
   "metadata": {},
   "source": [
    "<a id='Q4'></a>\n",
    "## <font color=blue><center>4- Which levels generated more money</center> ##"
   ]
  },
  {
   "cell_type": "code",
   "execution_count": 209,
   "metadata": {
    "scrolled": true
   },
   "outputs": [
    {
     "data": {
      "text/html": [
       "<div>\n",
       "<style scoped>\n",
       "    .dataframe tbody tr th:only-of-type {\n",
       "        vertical-align: middle;\n",
       "    }\n",
       "\n",
       "    .dataframe tbody tr th {\n",
       "        vertical-align: top;\n",
       "    }\n",
       "\n",
       "    .dataframe thead th {\n",
       "        text-align: right;\n",
       "    }\n",
       "</style>\n",
       "<table border=\"1\" class=\"dataframe\">\n",
       "  <thead>\n",
       "    <tr style=\"text-align: right;\">\n",
       "      <th></th>\n",
       "      <th>player_level</th>\n",
       "      <th>revenue_of_event ($)</th>\n",
       "    </tr>\n",
       "  </thead>\n",
       "  <tbody>\n",
       "    <tr>\n",
       "      <th>0</th>\n",
       "      <td>4</td>\n",
       "      <td>14099</td>\n",
       "    </tr>\n",
       "    <tr>\n",
       "      <th>1</th>\n",
       "      <td>3</td>\n",
       "      <td>13652</td>\n",
       "    </tr>\n",
       "    <tr>\n",
       "      <th>2</th>\n",
       "      <td>5</td>\n",
       "      <td>13503</td>\n",
       "    </tr>\n",
       "    <tr>\n",
       "      <th>3</th>\n",
       "      <td>6</td>\n",
       "      <td>12854</td>\n",
       "    </tr>\n",
       "    <tr>\n",
       "      <th>4</th>\n",
       "      <td>2</td>\n",
       "      <td>12355</td>\n",
       "    </tr>\n",
       "    <tr>\n",
       "      <th>5</th>\n",
       "      <td>7</td>\n",
       "      <td>9176</td>\n",
       "    </tr>\n",
       "    <tr>\n",
       "      <th>6</th>\n",
       "      <td>8</td>\n",
       "      <td>9164</td>\n",
       "    </tr>\n",
       "    <tr>\n",
       "      <th>7</th>\n",
       "      <td>11</td>\n",
       "      <td>8160</td>\n",
       "    </tr>\n",
       "    <tr>\n",
       "      <th>8</th>\n",
       "      <td>12</td>\n",
       "      <td>7695</td>\n",
       "    </tr>\n",
       "    <tr>\n",
       "      <th>9</th>\n",
       "      <td>10</td>\n",
       "      <td>7512</td>\n",
       "    </tr>\n",
       "    <tr>\n",
       "      <th>10</th>\n",
       "      <td>13</td>\n",
       "      <td>6978</td>\n",
       "    </tr>\n",
       "    <tr>\n",
       "      <th>11</th>\n",
       "      <td>17</td>\n",
       "      <td>6846</td>\n",
       "    </tr>\n",
       "    <tr>\n",
       "      <th>12</th>\n",
       "      <td>9</td>\n",
       "      <td>6840</td>\n",
       "    </tr>\n",
       "    <tr>\n",
       "      <th>13</th>\n",
       "      <td>16</td>\n",
       "      <td>6157</td>\n",
       "    </tr>\n",
       "    <tr>\n",
       "      <th>14</th>\n",
       "      <td>21</td>\n",
       "      <td>6066</td>\n",
       "    </tr>\n",
       "    <tr>\n",
       "      <th>15</th>\n",
       "      <td>14</td>\n",
       "      <td>5773</td>\n",
       "    </tr>\n",
       "    <tr>\n",
       "      <th>16</th>\n",
       "      <td>20</td>\n",
       "      <td>5698</td>\n",
       "    </tr>\n",
       "    <tr>\n",
       "      <th>17</th>\n",
       "      <td>37</td>\n",
       "      <td>4992</td>\n",
       "    </tr>\n",
       "    <tr>\n",
       "      <th>18</th>\n",
       "      <td>23</td>\n",
       "      <td>4964</td>\n",
       "    </tr>\n",
       "    <tr>\n",
       "      <th>19</th>\n",
       "      <td>19</td>\n",
       "      <td>4746</td>\n",
       "    </tr>\n",
       "    <tr>\n",
       "      <th>20</th>\n",
       "      <td>25</td>\n",
       "      <td>4488</td>\n",
       "    </tr>\n",
       "    <tr>\n",
       "      <th>21</th>\n",
       "      <td>15</td>\n",
       "      <td>4206</td>\n",
       "    </tr>\n",
       "    <tr>\n",
       "      <th>22</th>\n",
       "      <td>18</td>\n",
       "      <td>4178</td>\n",
       "    </tr>\n",
       "    <tr>\n",
       "      <th>23</th>\n",
       "      <td>30</td>\n",
       "      <td>4132</td>\n",
       "    </tr>\n",
       "    <tr>\n",
       "      <th>24</th>\n",
       "      <td>32</td>\n",
       "      <td>3799</td>\n",
       "    </tr>\n",
       "    <tr>\n",
       "      <th>25</th>\n",
       "      <td>29</td>\n",
       "      <td>3518</td>\n",
       "    </tr>\n",
       "    <tr>\n",
       "      <th>26</th>\n",
       "      <td>26</td>\n",
       "      <td>3231</td>\n",
       "    </tr>\n",
       "    <tr>\n",
       "      <th>27</th>\n",
       "      <td>28</td>\n",
       "      <td>3122</td>\n",
       "    </tr>\n",
       "    <tr>\n",
       "      <th>28</th>\n",
       "      <td>40</td>\n",
       "      <td>3053</td>\n",
       "    </tr>\n",
       "    <tr>\n",
       "      <th>29</th>\n",
       "      <td>24</td>\n",
       "      <td>2921</td>\n",
       "    </tr>\n",
       "    <tr>\n",
       "      <th>30</th>\n",
       "      <td>31</td>\n",
       "      <td>2812</td>\n",
       "    </tr>\n",
       "    <tr>\n",
       "      <th>31</th>\n",
       "      <td>22</td>\n",
       "      <td>2732</td>\n",
       "    </tr>\n",
       "    <tr>\n",
       "      <th>32</th>\n",
       "      <td>33</td>\n",
       "      <td>2657</td>\n",
       "    </tr>\n",
       "    <tr>\n",
       "      <th>33</th>\n",
       "      <td>41</td>\n",
       "      <td>2427</td>\n",
       "    </tr>\n",
       "    <tr>\n",
       "      <th>34</th>\n",
       "      <td>39</td>\n",
       "      <td>2427</td>\n",
       "    </tr>\n",
       "    <tr>\n",
       "      <th>35</th>\n",
       "      <td>27</td>\n",
       "      <td>1997</td>\n",
       "    </tr>\n",
       "    <tr>\n",
       "      <th>36</th>\n",
       "      <td>34</td>\n",
       "      <td>1882</td>\n",
       "    </tr>\n",
       "    <tr>\n",
       "      <th>37</th>\n",
       "      <td>36</td>\n",
       "      <td>1785</td>\n",
       "    </tr>\n",
       "    <tr>\n",
       "      <th>38</th>\n",
       "      <td>35</td>\n",
       "      <td>861</td>\n",
       "    </tr>\n",
       "    <tr>\n",
       "      <th>39</th>\n",
       "      <td>38</td>\n",
       "      <td>654</td>\n",
       "    </tr>\n",
       "  </tbody>\n",
       "</table>\n",
       "</div>"
      ],
      "text/plain": [
       "    player_level  revenue_of_event ($)\n",
       "0   4             14099               \n",
       "1   3             13652               \n",
       "2   5             13503               \n",
       "3   6             12854               \n",
       "4   2             12355               \n",
       "5   7             9176                \n",
       "6   8             9164                \n",
       "7   11            8160                \n",
       "8   12            7695                \n",
       "9   10            7512                \n",
       "10  13            6978                \n",
       "11  17            6846                \n",
       "12  9             6840                \n",
       "13  16            6157                \n",
       "14  21            6066                \n",
       "15  14            5773                \n",
       "16  20            5698                \n",
       "17  37            4992                \n",
       "18  23            4964                \n",
       "19  19            4746                \n",
       "20  25            4488                \n",
       "21  15            4206                \n",
       "22  18            4178                \n",
       "23  30            4132                \n",
       "24  32            3799                \n",
       "25  29            3518                \n",
       "26  26            3231                \n",
       "27  28            3122                \n",
       "28  40            3053                \n",
       "29  24            2921                \n",
       "30  31            2812                \n",
       "31  22            2732                \n",
       "32  33            2657                \n",
       "33  41            2427                \n",
       "34  39            2427                \n",
       "35  27            1997                \n",
       "36  34            1882                \n",
       "37  36            1785                \n",
       "38  35            861                 \n",
       "39  38            654                 "
      ]
     },
     "execution_count": 209,
     "metadata": {},
     "output_type": "execute_result"
    }
   ],
   "source": [
    "# revenue generation by player_level\n",
    "question4 = ps.sqldf(\"\"\"\n",
    "\n",
    "SELECT player_level, CAST(ROUND(SUM(total_premium_collected)*4.99/100,0) AS INT) 'revenue_of_event ($)'\n",
    "FROM df\n",
    "GROUP BY 1\n",
    "ORDER BY 2 DESC\n",
    "\n",
    "\"\"\")\n",
    "\n",
    "# saving data for PPT file\n",
    "question4.to_csv('question4.csv', index=None)\n",
    "question4"
   ]
  },
  {
   "cell_type": "markdown",
   "metadata": {},
   "source": [
    "<a id='Q5'></a>\n",
    "## <font color=blue><center>5- How to improve future events in terms of participation and revenue?</center> ##"
   ]
  },
  {
   "attachments": {},
   "cell_type": "markdown",
   "metadata": {},
   "source": [
    "**Improve product features to engage more users in Chapter 1, Mission 1 to 5 <br>\n",
    "<br>\n",
    "Fix product issues with mission 5 Chapter 16<br>\n",
    "<br>\n",
    "Focus on improving the design for lvl_grouping of beginner<br>\n",
    "<br>\n",
    "Focus on the users with the early level to increase revenue**<br>\n"
   ]
  }
 ],
 "metadata": {
  "kernelspec": {
   "display_name": "Python 3",
   "language": "python",
   "name": "python3"
  },
  "language_info": {
   "codemirror_mode": {
    "name": "ipython",
    "version": 3
   },
   "file_extension": ".py",
   "mimetype": "text/x-python",
   "name": "python",
   "nbconvert_exporter": "python",
   "pygments_lexer": "ipython3",
   "version": "3.8.3"
  }
 },
 "nbformat": 4,
 "nbformat_minor": 4
}
